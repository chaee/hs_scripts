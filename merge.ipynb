{
 "cells": [
  {
   "cell_type": "code",
   "execution_count": 2,
   "id": "6bf69404",
   "metadata": {},
   "outputs": [],
   "source": [
    "import pandas as pd\n",
    "import numpy as np"
   ]
  },
  {
   "cell_type": "code",
   "execution_count": 26,
   "id": "7d53330c",
   "metadata": {},
   "outputs": [
    {
     "data": {
      "text/plain": [
       "array(['en'], dtype=object)"
      ]
     },
     "execution_count": 26,
     "metadata": {},
     "output_type": "execute_result"
    }
   ],
   "source": [
    "'''\n",
    "df = pd.read_csv('formatted/sarkar2021en.csv', lineterminator='\\n', sep='\\t')\n",
    "print(df.head())\n",
    "'''\n",
    "files = ['formatted/chung2019.csv', 'formatted/chung2021.csv', 'formatted/fanton2021.csv', 'formatted/samory2021en.csv', 'formatted/sarkar2021en.csv']\n",
    "\n",
    "df = pd.read_csv('formatted/formatted.csv', lineterminator='\\n', sep='\\t',delimiter=None)\n",
    "df = df[df.language=='en']\n",
    "df.language.unique()"
   ]
  },
  {
   "cell_type": "code",
   "execution_count": 27,
   "id": "6eafe59e",
   "metadata": {},
   "outputs": [
    {
     "name": "stdout",
     "output_type": "stream",
     "text": [
      "------- formatted/chung2019.csv -------\n",
      "['en']\n",
      "------- formatted/chung2021.csv -------\n",
      "['en']\n",
      "------- formatted/fanton2021.csv -------\n",
      "['en']\n",
      "------- formatted/samory2021en.csv -------\n",
      "['en']\n",
      "------- formatted/sarkar2021en.csv -------\n",
      "['en']\n"
     ]
    }
   ],
   "source": [
    "for ds in files:\n",
    "    print('-------',ds,'-------')\n",
    "    ndf = pd.read_csv(ds, lineterminator='\\n', sep='\\t', skiprows=0, delimiter=None) \n",
    "    ndf = ndf[ndf.language=='en']\n",
    "    print(ndf.language.unique())\n",
    "    pd.concat([df, ndf], verify_integrity=True, axis=1, ignore_index=True)"
   ]
  },
  {
   "cell_type": "code",
   "execution_count": 33,
   "id": "e4772806",
   "metadata": {},
   "outputs": [],
   "source": [
    "df.to_csv('formatted/merged.csv', index=False, sep='\\t')"
   ]
  },
  {
   "cell_type": "code",
   "execution_count": 34,
   "id": "6965b9c2",
   "metadata": {},
   "outputs": [
    {
     "data": {
      "text/html": [
       "<div>\n",
       "<style scoped>\n",
       "    .dataframe tbody tr th:only-of-type {\n",
       "        vertical-align: middle;\n",
       "    }\n",
       "\n",
       "    .dataframe tbody tr th {\n",
       "        vertical-align: top;\n",
       "    }\n",
       "\n",
       "    .dataframe thead th {\n",
       "        text-align: right;\n",
       "    }\n",
       "</style>\n",
       "<table border=\"1\" class=\"dataframe\">\n",
       "  <thead>\n",
       "    <tr style=\"text-align: right;\">\n",
       "      <th></th>\n",
       "      <th>text</th>\n",
       "      <th>label</th>\n",
       "      <th>language</th>\n",
       "      <th>source</th>\n",
       "    </tr>\n",
       "  </thead>\n",
       "  <tbody>\n",
       "    <tr>\n",
       "      <th>0</th>\n",
       "      <td>If America had another 8 years of Obama's ideo...</td>\n",
       "      <td>['disrespectful', 'none', 'fearful', 'hate', '...</td>\n",
       "      <td>en</td>\n",
       "      <td>ousidhoum2019en_with_stopwords.csv</td>\n",
       "    </tr>\n",
       "    <tr>\n",
       "      <th>1</th>\n",
       "      <td>Most Canadians have never met seen or associat...</td>\n",
       "      <td>['offensive', 'indirect']</td>\n",
       "      <td>en</td>\n",
       "      <td>ousidhoum2019en_with_stopwords.csv</td>\n",
       "    </tr>\n",
       "    <tr>\n",
       "      <th>2</th>\n",
       "      <td>Hahaha grow up faggot @URL</td>\n",
       "      <td>['offensive', 'indirect']</td>\n",
       "      <td>en</td>\n",
       "      <td>ousidhoum2019en_with_stopwords.csv</td>\n",
       "    </tr>\n",
       "    <tr>\n",
       "      <th>3</th>\n",
       "      <td>@user queue is fucking retarded it makes every...</td>\n",
       "      <td>['direct', 'offensive', 'hate']</td>\n",
       "      <td>en</td>\n",
       "      <td>ousidhoum2019en_with_stopwords.csv</td>\n",
       "    </tr>\n",
       "    <tr>\n",
       "      <th>4</th>\n",
       "      <td>@user Que ce ne soit pas des Burundais refugie...</td>\n",
       "      <td>['none', 'indirect', 'hate']</td>\n",
       "      <td>en</td>\n",
       "      <td>ousidhoum2019en_with_stopwords.csv</td>\n",
       "    </tr>\n",
       "  </tbody>\n",
       "</table>\n",
       "</div>"
      ],
      "text/plain": [
       "                                                text  \\\n",
       "0  If America had another 8 years of Obama's ideo...   \n",
       "1  Most Canadians have never met seen or associat...   \n",
       "2                         Hahaha grow up faggot @URL   \n",
       "3  @user queue is fucking retarded it makes every...   \n",
       "4  @user Que ce ne soit pas des Burundais refugie...   \n",
       "\n",
       "                                               label language  \\\n",
       "0  ['disrespectful', 'none', 'fearful', 'hate', '...       en   \n",
       "1                          ['offensive', 'indirect']       en   \n",
       "2                          ['offensive', 'indirect']       en   \n",
       "3                    ['direct', 'offensive', 'hate']       en   \n",
       "4                       ['none', 'indirect', 'hate']       en   \n",
       "\n",
       "                               source  \n",
       "0  ousidhoum2019en_with_stopwords.csv  \n",
       "1  ousidhoum2019en_with_stopwords.csv  \n",
       "2  ousidhoum2019en_with_stopwords.csv  \n",
       "3  ousidhoum2019en_with_stopwords.csv  \n",
       "4  ousidhoum2019en_with_stopwords.csv  "
      ]
     },
     "execution_count": 34,
     "metadata": {},
     "output_type": "execute_result"
    }
   ],
   "source": [
    "df = pd.read_csv('formatted/merged.csv', lineterminator='\\n', sep='\\t')\n",
    "df.head()"
   ]
  },
  {
   "cell_type": "code",
   "execution_count": null,
   "id": "c10cb5dc",
   "metadata": {},
   "outputs": [],
   "source": []
  }
 ],
 "metadata": {
  "kernelspec": {
   "display_name": "Python 3",
   "language": "python",
   "name": "python3"
  },
  "language_info": {
   "codemirror_mode": {
    "name": "ipython",
    "version": 3
   },
   "file_extension": ".py",
   "mimetype": "text/x-python",
   "name": "python",
   "nbconvert_exporter": "python",
   "pygments_lexer": "ipython3",
   "version": "3.8.8"
  }
 },
 "nbformat": 4,
 "nbformat_minor": 5
}
